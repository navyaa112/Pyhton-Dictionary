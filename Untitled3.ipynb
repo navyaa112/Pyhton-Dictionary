{
  "nbformat": 4,
  "nbformat_minor": 0,
  "metadata": {
    "colab": {
      "provenance": [],
      "authorship_tag": "ABX9TyNSjaJwhqPrDJQpk+whuO1f",
      "include_colab_link": true
    },
    "kernelspec": {
      "name": "python3",
      "display_name": "Python 3"
    },
    "language_info": {
      "name": "python"
    }
  },
  "cells": [
    {
      "cell_type": "markdown",
      "metadata": {
        "id": "view-in-github",
        "colab_type": "text"
      },
      "source": [
        "<a href=\"https://colab.research.google.com/github/navyaa112/Pyhton-Dictionary/blob/main/Untitled3.ipynb\" target=\"_parent\"><img src=\"https://colab.research.google.com/assets/colab-badge.svg\" alt=\"Open In Colab\"/></a>"
      ]
    },
    {
      "cell_type": "code",
      "source": [
        "with open('wikipedia.txt','r')as ab:\n",
        "  print(ab.read())"
      ],
      "metadata": {
        "colab": {
          "base_uri": "https://localhost:8080/"
        },
        "id": "Uo4pOJx1-l4I",
        "outputId": "d7c2707d-693b-4ff5-ac1e-d9c41587a043"
      },
      "execution_count": 8,
      "outputs": [
        {
          "output_type": "stream",
          "name": "stdout",
          "text": [
            "\n"
          ]
        }
      ]
    },
    {
      "cell_type": "code",
      "source": [
        "f=open('maximum.txt','w')\n",
        "n=int(input('enter no.of values='))\n",
        "for x in range(n):\n",
        "  e=int(input('enter value='))\n",
        "  f.write(str(e))\n",
        "  f.write(\"\\n\")\n",
        "f.close()  "
      ],
      "metadata": {
        "colab": {
          "base_uri": "https://localhost:8080/"
        },
        "id": "7-joVzAv_3Rq",
        "outputId": "7d9d98c0-9aa8-4ddb-e8ea-6260893acee3"
      },
      "execution_count": 11,
      "outputs": [
        {
          "name": "stdout",
          "output_type": "stream",
          "text": [
            "enter no.of values=2\n",
            "enter value=7\n",
            "enter value=14\n"
          ]
        }
      ]
    },
    {
      "cell_type": "code",
      "source": [
        "with open('maximum.txt','r')as ab:\n",
        "  print(ab.read())"
      ],
      "metadata": {
        "colab": {
          "base_uri": "https://localhost:8080/"
        },
        "id": "ShmMDJRiBHTQ",
        "outputId": "73101a8a-c4aa-4752-e92c-230e16b6a879"
      },
      "execution_count": 12,
      "outputs": [
        {
          "output_type": "stream",
          "name": "stdout",
          "text": [
            "7\n",
            "14\n",
            "\n",
            "\n"
          ]
        }
      ]
    },
    {
      "cell_type": "code",
      "source": [
        "f=open('fruits.txt','w')\n",
        "n=int(input('enter total no of fruits='))\n",
        "for x in range(n):\n",
        "  name=input('enter fruit name=')\n",
        "  name=name.title()\n",
        "  f.write(name)\n",
        "f.close()  "
      ],
      "metadata": {
        "colab": {
          "base_uri": "https://localhost:8080/"
        },
        "id": "f2yMgcZYEB2Z",
        "outputId": "2047ef3b-1f17-47fd-b576-93b54aa521fc"
      },
      "execution_count": 22,
      "outputs": [
        {
          "name": "stdout",
          "output_type": "stream",
          "text": [
            "enter total no of fruits=2\n",
            "enter fruit name=mango\n",
            "enter fruit name=kiwi\n"
          ]
        }
      ]
    }
  ]
}